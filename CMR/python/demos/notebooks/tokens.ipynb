{
 "cells": [
  {
   "cell_type": "markdown",
   "metadata": {},
   "source": [
    "# Python Wrapper for CMR\n",
    "`A python library to interface with CMR - Token Demo`\n",
    "\n",
    "This demo will show how to request an EDL token from CMR while inside a notebook."
   ]
  },
  {
   "cell_type": "markdown",
   "metadata": {},
   "source": [
    "## Loading the library \n",
    "To use this library, it needs to be loaded into Python. To do this, do one of the following, but not both."
   ]
  },
  {
   "cell_type": "markdown",
   "metadata": {},
   "source": [
    "### Choice A) With PIP\n",
    "Load the library via pip in one of these ways:\n",
    "\n",
    "* local build with: `./runme.sh -u -p -i`\n",
    "    * this does an uninstall if you already have it,\n",
    "    * then packages up a 'wheel' file,\n",
    "    * and finally install the 'wheel' file using pip3\n",
    "* lattest from the web: `pip3 install https://github.com/nasa/eo-metadata-tools/releases/download/latest-master/eo_metadata_tools_cmr-0.0.1-py3-none-any.whl`\n",
    "    * install pre-packaged version from github"
   ]
  },
  {
   "cell_type": "markdown",
   "metadata": {},
   "source": [
    "### OR Choice B) Reference Dev Copy\n",
    "This is normally only done if you wish to make local changes or you are testing code. In this case, the command `git clone https://github.com/nasa/eo-metadata-tools` was called in `~/src/project` directory, you may need to change the path below depending on where you performed the clone."
   ]
  },
  {
   "cell_type": "code",
   "execution_count": null,
   "metadata": {},
   "outputs": [],
   "source": [
    "import os\n",
    "import sys\n",
    "sys.path.append(os.path.expanduser('~/src/project/eo-metadata-tools/CMR/python/'))"
   ]
  },
  {
   "cell_type": "markdown",
   "metadata": {},
   "source": [
    "---\n",
    "\n",
    "### 'Import' the library into the notebook\n",
    "\n",
    "This step is done after you choose step A or B\n",
    "\n",
    "This should be all you need after we get PIP support. Take care to make sure you install to the same version of python if you have multiple instances. If any errors are shown then you may not have installed the library correctly."
   ]
  },
  {
   "cell_type": "code",
   "execution_count": null,
   "metadata": {},
   "outputs": [],
   "source": [
    "import cmr.auth.token as t\n",
    "import cmr.search.collection as coll"
   ]
  },
  {
   "cell_type": "markdown",
   "metadata": {},
   "source": [
    "If something goes wrong, try running the next block to help debug the issue."
   ]
  },
  {
   "cell_type": "code",
   "execution_count": null,
   "metadata": {},
   "outputs": [],
   "source": [
    "import platform\n",
    "print (\"Python version is {}.\".format(platform.python_version()))\n",
    "\n",
    "import cmr\n",
    "print (\"What build information exists for the library:\\n{}\".format(cmr.BUILD))"
   ]
  },
  {
   "cell_type": "markdown",
   "metadata": {},
   "source": [
    "## Printing Tokens - Demo Safety\n",
    "When working with tokens, you don't want to print them out on the screen, but you might want to look at the value to confirm which token your working with. Use the built in utility function in the utility package to mask out these values for printing to a notebook. This is very importent when sharing your screen."
   ]
  },
  {
   "cell_type": "code",
   "execution_count": null,
   "metadata": {},
   "outputs": [],
   "source": [
    "import cmr.util.common as com\n",
    "\n",
    "print (\"examples:\")\n",
    "print (com.mask_string(\"012345678909876543210\"))\n",
    "print(com.mask_dictionary({\"token\": \"012345678909876543210\"}, \"token\"))"
   ]
  },
  {
   "cell_type": "markdown",
   "metadata": {},
   "source": [
    "# Simple way of Getting a token from EDL\n",
    "If you only have time for one example this one is it.\n",
    "\n",
    "This is the best and simplest way to use the token library. Call `fetch_bearer_token_with_password()` which will handle all the calls to EDL needed to generate a token for you and package it up in a config object you provide. Simply supply a user name and password and optionally a config dictionary and your done."
   ]
  },
  {
   "cell_type": "code",
   "execution_count": null,
   "metadata": {
    "scrolled": false
   },
   "outputs": [],
   "source": [
    "import getpass\n",
    "\n",
    "# Ask the user for their name and password in the EDL SIT envirnment\n",
    "user = input('Enter in the EDL user name for SIT -> ')\n",
    "password = getpass.getpass(\"Enter in the EDL password for \" + user + \"-> \")\n",
    "config = {'env':'sit'} # configure to use EDL's SIT environment\n",
    "\n",
    "# Get a config dictionary with the token\n",
    "config = t.fetch_bearer_token_with_password(user, password, config=config)\n",
    "\n",
    "# Print out the dictionary but also mask out the actual token value.\n",
    "# Notice that the authorization element has been added for you\n",
    "print(com.mask_dictionary(config, \"authorization\"))\n"
   ]
  },
  {
   "cell_type": "markdown",
   "metadata": {},
   "source": [
    "# Using a token file\n",
    "\n",
    "\n",
    "## Shortest Example\n",
    "Here is the shortest, one line example of doing a search with a saved bearer token. Grab a UAT token from [UAT URS user generated token page](https://uat.urs.earthdata.nasa.gov/user_tokens) and save it to a file called ~/.cmr_token.uat."
   ]
  },
  {
   "cell_type": "code",
   "execution_count": null,
   "metadata": {},
   "outputs": [],
   "source": [
    "coll.search({'keyword':'modis'},\n",
    "            filters=[coll.collection_core_fields],\n",
    "            config=t.use_bearer_token(config={'env': 'uat'}))"
   ]
  },
  {
   "cell_type": "markdown",
   "metadata": {},
   "source": [
    "## More details on using a token file\n",
    "In this example we are going to store our token to a file, listed below is how you can specify the file, however the setting is actually the same as the default file if no setting is given.\n",
    "\n",
    "To get a token, generate one using the [URS user generated token page](https://urs.earthdata.nasa.gov/user_tokens). Take that token and store it in the file `~/.cmr_token`."
   ]
  },
  {
   "cell_type": "code",
   "execution_count": null,
   "metadata": {
    "scrolled": true
   },
   "outputs": [],
   "source": [
    "config = {} #use no overrides\n",
    "print(\"token: '%s'\" % com.mask_string(t.token(t.token_file, config)))\n",
    "\n",
    "config = {\"cmr.token.file\": \"~/.cmr_token\"} #this is the same as the default\n",
    "print(\"token: '%s'\" % com.mask_string(t.token(t.token_file, config)))\n",
    "\n",
    "config = {\"cmr.token.file\": \"~/.cmr_token_fake_file\"} #this is not the default\n",
    "print(\"token: '%s'\" % com.mask_string(t.token(t.token_file, config)))"
   ]
  },
  {
   "cell_type": "markdown",
   "metadata": {},
   "source": [
    "## Using Keychain on Mac OS X\n",
    "in this example I am using an already existing password saved securly in keychain. For directions on how to setup a keychain record, see the [README](https://github.com/nasa/eo-metadata-tools/tree/master/CMR/python). Keychain may require a human to type in the password, I have clicked \"Allways allow\" so we may not see it. When using this method, delete the value in `~/.cmr_token` as having a clear text token defeats the security offered by Keychain. "
   ]
  },
  {
   "cell_type": "code",
   "execution_count": null,
   "metadata": {},
   "outputs": [],
   "source": [
    "options = {'token.manager.service': 'cmr lib token'} #this is not the default\n",
    "print(com.mask_string(t.token(t.token_manager, options)))"
   ]
  },
  {
   "cell_type": "markdown",
   "metadata": {},
   "source": [
    "### Search both at once"
   ]
  },
  {
   "cell_type": "code",
   "execution_count": null,
   "metadata": {},
   "outputs": [],
   "source": [
    "options = {\"cmr.token.file\": \"~/.cmr_token_fake_file\", 'token.manager.service': 'cmr lib token'}\n",
    "print(com.mask_string(t.token([t.token_manager, t.token_file], options)))"
   ]
  },
  {
   "cell_type": "markdown",
   "metadata": {},
   "source": [
    "## Now search with a token\n",
    "Do a very basic search in production using a token. Results **may** very based on the permisions of the user for which the token is for. This example will use the function called \"use_bearer_token\" which will create a new configuration dictionary with your token information added to it. Your new configuration can be copied from an existing configuration dictionary if you have one. If saving your token to a file, nothing needs else needs to happen.\n",
    "\n",
    "`new_config = t.use_bearer_token(config=old_config)`\n",
    "\n",
    "This example will also show how to turn on logging to get more details out of the internal code.\n"
   ]
  },
  {
   "cell_type": "code",
   "execution_count": null,
   "metadata": {},
   "outputs": [],
   "source": [
    "# Common settings for both queries\n",
    "params={'keyword':'modis', 'sort_key':'instrument'} #something to search for\n",
    "filters=[coll.collection_core_fields] #reduce the values displayed\n",
    "configs1={} # use all defaults\n",
    "\n",
    "# For the second query a token will be called from keychain and sent as a Bearer token\n",
    "configs2=t.use_bearer_token(config=configs1)\n",
    "coll.set_logging_to(\"INFO\") #logging on\n",
    "\n",
    "print(coll.search(params, filters=filters, config=configs1, limit=2))\n",
    "print('\\nvs\\n')\n",
    "print(com.mask_string(configs2['authorization']))\n",
    "print(coll.search(params, filters=filters, config=configs2, limit=2))\n",
    "coll.set_logging_to(\"ERROR\") #effectivly, logging off"
   ]
  },
  {
   "cell_type": "markdown",
   "metadata": {},
   "source": [
    "## Bulit in help\n",
    "I can't remember anything, so here is some built in help which pulls from the python docstring for each function in the token library. The parameter filters out functions, remove it to see all."
   ]
  },
  {
   "cell_type": "code",
   "execution_count": null,
   "metadata": {},
   "outputs": [],
   "source": [
    "print(t.help_text('token_'))"
   ]
  },
  {
   "cell_type": "markdown",
   "metadata": {},
   "source": [
    "----\n",
    "The End"
   ]
  }
 ],
 "metadata": {
  "kernelspec": {
   "display_name": "Python 3",
   "language": "python",
   "name": "python3"
  },
  "language_info": {
   "codemirror_mode": {
    "name": "ipython",
    "version": 3
   },
   "file_extension": ".py",
   "mimetype": "text/x-python",
   "name": "python",
   "nbconvert_exporter": "python",
   "pygments_lexer": "ipython3",
   "version": "3.8.5"
  }
 },
 "nbformat": 4,
 "nbformat_minor": 4
}
